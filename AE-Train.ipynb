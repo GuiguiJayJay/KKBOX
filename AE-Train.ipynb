{
 "cells": [
  {
   "cell_type": "markdown",
   "metadata": {},
   "source": [
    "# Pre-processing Train data"
   ]
  },
  {
   "cell_type": "markdown",
   "metadata": {},
   "source": [
    "Some pre-processing and basic feature engineering for Train data."
   ]
  },
  {
   "cell_type": "code",
   "execution_count": 1,
   "metadata": {
    "collapsed": true
   },
   "outputs": [],
   "source": [
    "%matplotlib inline\n",
    "import numpy as np\n",
    "import pandas as pd\n",
    "import matplotlib.pyplot as plt"
   ]
  },
  {
   "cell_type": "markdown",
   "metadata": {},
   "source": [
    "## Dirty feat-eng"
   ]
  },
  {
   "cell_type": "code",
   "execution_count": 2,
   "metadata": {},
   "outputs": [
    {
     "name": "stdout",
     "output_type": "stream",
     "text": [
      "<class 'pandas.core.frame.DataFrame'>\n",
      "RangeIndex: 7377418 entries, 0 to 7377417\n",
      "Data columns (total 6 columns):\n",
      "msno                  object\n",
      "song_id               object\n",
      "source_system_tab     object\n",
      "source_screen_name    object\n",
      "source_type           object\n",
      "target                int64\n",
      "dtypes: int64(1), object(5)\n",
      "memory usage: 337.7+ MB\n"
     ]
    }
   ],
   "source": [
    "train = pd.read_csv(filepath_or_buffer='data/train.csv')\n",
    "train.info()"
   ]
  },
  {
   "cell_type": "code",
   "execution_count": 3,
   "metadata": {},
   "outputs": [
    {
     "data": {
      "text/plain": [
       "msno                       0\n",
       "song_id                    0\n",
       "source_system_tab      18371\n",
       "source_screen_name    414804\n",
       "source_type            21539\n",
       "target                     0\n",
       "dtype: int64"
      ]
     },
     "execution_count": 3,
     "metadata": {},
     "output_type": "execute_result"
    }
   ],
   "source": [
    "train.isnull().sum()"
   ]
  },
  {
   "cell_type": "code",
   "execution_count": 4,
   "metadata": {},
   "outputs": [
    {
     "data": {
      "text/plain": [
       "{'discover': 2179252,\n",
       " 'explore': 167949,\n",
       " 'listen with': 212266,\n",
       " 'my library': 3684730,\n",
       " 'notification': 6185,\n",
       " 'null': 6478,\n",
       " 'radio': 476701,\n",
       " 'search': 623286,\n",
       " 'settings': 2200}"
      ]
     },
     "execution_count": 4,
     "metadata": {},
     "output_type": "execute_result"
    }
   ],
   "source": [
    "train['source_system_tab'].value_counts().to_dict()"
   ]
  },
  {
   "cell_type": "code",
   "execution_count": 5,
   "metadata": {},
   "outputs": [
    {
     "data": {
      "text/plain": [
       "{'Album more': 420156,\n",
       " 'Artist more': 252429,\n",
       " 'Concert': 47,\n",
       " 'Discover Chart': 213658,\n",
       " 'Discover Feature': 244246,\n",
       " 'Discover Genre': 82202,\n",
       " 'Discover New': 15955,\n",
       " 'Explore': 72342,\n",
       " 'Local playlist more': 3228202,\n",
       " 'My library': 75980,\n",
       " 'My library_Search': 6451,\n",
       " 'Online playlist more': 1294689,\n",
       " 'Others profile more': 201795,\n",
       " 'Payment': 12,\n",
       " 'Radio': 474467,\n",
       " 'Search': 298487,\n",
       " 'Search Home': 13482,\n",
       " 'Search Trends': 13632,\n",
       " 'Self profile more': 212,\n",
       " 'Unknown': 54170}"
      ]
     },
     "execution_count": 5,
     "metadata": {},
     "output_type": "execute_result"
    }
   ],
   "source": [
    "train['source_screen_name'].value_counts().to_dict()"
   ]
  },
  {
   "cell_type": "code",
   "execution_count": 6,
   "metadata": {},
   "outputs": [
    {
     "data": {
      "text/plain": [
       "{'album': 477344,\n",
       " 'artist': 3038,\n",
       " 'listen-with': 192842,\n",
       " 'local-library': 2261399,\n",
       " 'local-playlist': 1079503,\n",
       " 'my-daily-playlist': 663,\n",
       " 'online-playlist': 1967924,\n",
       " 'radio': 483109,\n",
       " 'song': 244722,\n",
       " 'song-based-playlist': 210527,\n",
       " 'top-hits-for-artist': 423614,\n",
       " 'topic-article-playlist': 11194}"
      ]
     },
     "execution_count": 6,
     "metadata": {},
     "output_type": "execute_result"
    }
   ],
   "source": [
    "train['source_type'].value_counts().to_dict()"
   ]
  },
  {
   "cell_type": "code",
   "execution_count": 7,
   "metadata": {
    "collapsed": true
   },
   "outputs": [],
   "source": [
    "# Put NaN into a 'Unknown' category\n",
    "train['source_system_tab'].fillna('Unknown', inplace=True)\n",
    "train['source_screen_name'].fillna('Unknown', inplace=True)\n",
    "train['source_type'].fillna('Unknown', inplace=True)"
   ]
  }
 ],
 "metadata": {
  "kernelspec": {
   "display_name": "Python 3",
   "language": "python",
   "name": "python3"
  },
  "language_info": {
   "codemirror_mode": {
    "name": "ipython",
    "version": 3
   },
   "file_extension": ".py",
   "mimetype": "text/x-python",
   "name": "python",
   "nbconvert_exporter": "python",
   "pygments_lexer": "ipython3",
   "version": "3.6.2"
  }
 },
 "nbformat": 4,
 "nbformat_minor": 2
}
